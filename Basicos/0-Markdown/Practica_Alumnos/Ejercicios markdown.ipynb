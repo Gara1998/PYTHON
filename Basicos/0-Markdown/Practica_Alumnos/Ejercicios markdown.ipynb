{
 "cells": [
  {
   "cell_type": "markdown",
   "metadata": {},
   "source": [
    "![imagen](./img/ejercicios.png)\n",
    "# Markdown\n",
    "\n",
    "## Ejercicio 1\n",
    "Vamos a aplicar los conocimientos adquiridos en este notebook, intentando reproducir la siguiente imagen en markdown. En el link va la página: https://www.kaggle.com/\n",
    "\n",
    "**TIP**: en [este enlace](https://www.markdownguide.org/basic-syntax/) tienes más ejemplos, por si te atascas con algo :)\n"
   ]
  },
  {
   "cell_type": "markdown",
   "metadata": {},
   "source": [
    "![imagen](./img/ejercicio_markdown.png)"
   ]
  },
  {
   "attachments": {},
   "cell_type": "markdown",
   "metadata": {},
   "source": [
    "## Aptitudes de Data Scientist\n",
    "> **Lo más importante**\n",
    ">   * Matemáticas\n",
    ">   * Python\n",
    ">   * SQL\n",
    ">\n",
    ">  ![img_python](../Teoria/img/python.png)\n",
    ">\n",
    "> Otro tema importante es el *Business intelligence*\n",
    ">\n",
    "> Si tienes dudas puedes escribirme a: miguel.nievas@thebridgeschool.es\n",
    ">\n",
    "> En esta página se aprende mucho de machine learning: [**página con ML**](https://www.kaggle.com/)"
   ]
  },
  {
   "cell_type": "markdown",
   "metadata": {},
   "source": [
    "## Ejercicio 2\n",
    "Para este ejercicio vas a crear dos nuevos elementos que no hemos visto en la teoría: una tabla y una fórmula. Busca en la web la sintaxis y replica ambos elementos. Ojo con los espacios en blanco entre la tabla y la fórmula. (no es necesaria la tira azul)"
   ]
  },
  {
   "cell_type": "markdown",
   "metadata": {},
   "source": [
    "<div style=\"text-align:center\"><img src=\"./img/md_ejercicio2.png\" /></div>"
   ]
  },
  {
   "attachments": {},
   "cell_type": "markdown",
   "metadata": {},
   "source": []
  },
  {
   "cell_type": "markdown",
   "metadata": {},
   "source": [
    "Para poner tabla o formula en el centro hay que usar HTML de la siguiente manera:\n",
    "\n",
    "> < div align=\"center\" >\n",
    ">\n",
    "> lo que se quiera escribir\n",
    ">\n",
    "> < /div >\n",
    "\n",
    "  \n"
   ]
  },
  {
   "cell_type": "markdown",
   "metadata": {},
   "source": [
    "<div align=\"center\">\n",
    "\n",
    "| Ramp Up | Data Analysis | Machine Learning | Data & Business |\n",
    "|:---|:---|:---|:---|\n",
    "| Python | EDA | Supervised | Productivización |\n",
    "| Estadística | R | Non supervised | Storytelling |\n",
    "| SQL | Feat. Eng. | Deep Learning | API |\n",
    "\n",
    "</div>"
   ]
  },
  {
   "cell_type": "markdown",
   "metadata": {},
   "source": [
    "\\begin{equation}\n",
    "  \\sqrt{3x-1}+(1+x)^2\n",
    "\\end{equation}"
   ]
  },
  {
   "cell_type": "markdown",
   "metadata": {},
   "source": [
    "He intentado hacer la tabla con LATEX pero markdown no soporta"
   ]
  },
  {
   "cell_type": "markdown",
   "metadata": {},
   "source": [
    "\\begin{table}\n",
    "    \\textbf{Ramp Up} & \\textbf{Data Analysis} & \\textbf{Machile Learning} & \\textbf{Data  Business} \\\\\n",
    "    Python & EDA & Supervised & Productivización \\\\\n",
    "    Estadística & R & Non supervised & Storytelling \\\\\n",
    "    SQL & Feat. Eng. & Deep Learning & API \n",
    "\\end{table}"
   ]
  }
 ],
 "metadata": {
  "kernelspec": {
   "display_name": "Python 3",
   "language": "python",
   "name": "python3"
  },
  "language_info": {
   "codemirror_mode": {
    "name": "ipython",
    "version": 3
   },
   "file_extension": ".py",
   "mimetype": "text/x-python",
   "name": "python",
   "nbconvert_exporter": "python",
   "pygments_lexer": "ipython3",
   "version": "3.7.4"
  },
  "vscode": {
   "interpreter": {
    "hash": "abc9fc88bc0e5c548c5da0f33af674c000293e7a58ee42428ace4cfa52bc0e99"
   }
  }
 },
 "nbformat": 4,
 "nbformat_minor": 4
}
