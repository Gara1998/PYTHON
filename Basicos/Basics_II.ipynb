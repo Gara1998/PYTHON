{
 "cells": [
  {
   "cell_type": "markdown",
   "metadata": {},
   "source": [
    "![imagen](./img/python.jpg)"
   ]
  },
  {
   "cell_type": "markdown",
   "metadata": {},
   "source": [
    "# Python Basics II\n",
    "\n",
    "\n",
    "Ya hemos visto cómo declarar variables, qué tipos hay, y otras funcionalidades importantes de Python como sus flujos de ejecución o las formas que tenemos de comentar el código. En este Notebook aprenderás a realizar **operaciones con tus variables** y descubrirás las colecciones mediante uno de los objetos más usados en Python: **las listas**.\n",
    "\n",
    "1. [Operaciones aritméticas](#1-operaciones-aritméticas)\n",
    "2. [Operaciones comparativas](#2-operaciones-comparativas)\n",
    "3. [Operaciones con booleanos](#3-operaciones-con-booleanos)\n",
    "4. [Funciones *Built-in*](#4-funciones-built-in)\n",
    "5. [Métodos](#5-métodos)\n",
    "6. [Listas](#6-listas)\n",
    "7. [Resumen](#7-resumen)"
   ]
  },
  {
   "cell_type": "markdown",
   "metadata": {},
   "source": [
    "## 1. Operaciones aritméticas\n",
    "En el Notebook *Python Basics I* ya vimos por encima las principales operaciones aritméticas en Python. Las recordamos:\n",
    "* Sumar: `+`\n",
    "* Restar: `-`\n",
    "* Multiplicar: `*`\n",
    "* Dividir: `/`\n",
    "* Elevar: `**`\n",
    "* Cociente division: `//` (nos devuelve la parte entera de la division)\n",
    "* Resto de la división: `%`"
   ]
  },
  {
   "cell_type": "markdown",
   "metadata": {},
   "source": [
    "<table align=\"left\">\n",
    " <tr><td width=\"80\"><img src=\"./img/ejercicio.png\" style=\"width:auto;height:auto\"></td>\n",
    "     <td style=\"text-align:left\">\n",
    "         <h3>Ejercicio de operaciones aritméticas</h3>\n",
    "\n",
    "      \n",
    "<ol>\n",
    "    <li>Declara una variable int</li>\n",
    "    <li>Declara otra variable float.</li>\n",
    "    <li>Suma ambas variables. ¿Qué tipo de dato es el resultado?</li>\n",
    "    <li>Multiplica ambas variables</li>\n",
    "    <li>Eleva una variable a la potencia de la otra</li>\n",
    "    <li>Calcula el resto de dividir 12/5</li>\n",
    "</ol>\n",
    "         \n",
    " </td></tr>\n",
    "</table>"
   ]
  },
  {
   "cell_type": "code",
   "execution_count": 51,
   "metadata": {},
   "outputs": [
    {
     "name": "stdout",
     "output_type": "stream",
     "text": [
      "8.5 <class 'float'>\n",
      "17.5 <class 'float'>\n",
      "279.5084971874737 <class 'float'>\n",
      "2 <class 'int'>\n"
     ]
    }
   ],
   "source": [
    "var_int = 5\n",
    "\n",
    "var_float = 3.5\n",
    "\n",
    "suma = var_int + var_float\n",
    "print(suma, type(suma))\n",
    "\n",
    "mult = var_int * var_float\n",
    "print(mult, type(mult))\n",
    "\n",
    "elevar = var_int ** var_float\n",
    "print(elevar, type(elevar))\n",
    "\n",
    "resto = 12 % 5 \n",
    "print(resto, type(resto))"
   ]
  },
  {
   "cell_type": "markdown",
   "metadata": {},
   "source": [
    "### Propiedad conmutativa, asociativa, distributiva y el paréntesis\n",
    "Si queremos concatenar varias operaciones, ten siempre en cuenta las propiedades matemáticas de la multiplicación"
   ]
  },
  {
   "cell_type": "code",
   "execution_count": 52,
   "metadata": {},
   "outputs": [
    {
     "name": "stdout",
     "output_type": "stream",
     "text": [
      "Conmutativa\n",
      "6\n",
      "6\n",
      "\n",
      "Asociativa\n",
      "16\n",
      "16\n",
      "\n",
      "Distributiva\n",
      "30\n",
      "30\n",
      "\n",
      "El Orden de operaciones se mantiene. Siempre podemos usar paréntesis\n",
      "50\n",
      "19\n"
     ]
    }
   ],
   "source": [
    "print(\"Conmutativa\")\n",
    "print(2 * 3)\n",
    "print(3 * 2)\n",
    "\n",
    "print(\"\\nAsociativa\") # Recuerda que \"\\n\" se usa para que haya un salto de linea en el output.\n",
    "print(2 * (3 + 5))\n",
    "print(2 * 3 + 2 * 5)\n",
    "\n",
    "print(\"\\nDistributiva\")\n",
    "print((3 * 2) * 5)\n",
    "print(3 * (2 * 5))\n",
    "\n",
    "print(\"\\nEl Orden de operaciones se mantiene. Siempre podemos usar paréntesis\")\n",
    "print(2 * (2 + 3) * 5)\n",
    "print((2 * 2 + 3 * 5))"
   ]
  },
  {
   "cell_type": "markdown",
   "metadata": {},
   "source": [
    "### Operaciones más complejas\n",
    "Si salimos de las operaciones básicas de Python, tendremos que importar módulos con más funcionalidades en nuestro código. Esto lo haremos mediante la sentencia `import math`. `math` es un módulo con funciones ya predefinidas, que no vienen por defecto en el núcleo de Python. De esta forma será posible hacer cálculos más complejos como:\n",
    "\n",
    "* Raíz cuadrada\n",
    "* Seno/Coseno\n",
    "* Valor absoluto\n",
    "*...\n",
    "\n",
    "El módulo es completísimo y si estás buscando alguna operación matemática, lo más seguro es que ya esté implementada. Te dejo por aquí el [link a la documentación del módulo.](https://docs.python.org/3/library/math.html)."
   ]
  },
  {
   "cell_type": "markdown",
   "metadata": {},
   "source": [
    "Una cosa es instalar la libreria y otra cosa es cargarla. Algunas librerias basicas (como math) vienen ya instaladas solo hay que cargarlas con el comando import."
   ]
  },
  {
   "cell_type": "code",
   "execution_count": 53,
   "metadata": {},
   "outputs": [],
   "source": [
    "import math"
   ]
  },
  {
   "cell_type": "code",
   "execution_count": 54,
   "metadata": {},
   "outputs": [
    {
     "name": "stdout",
     "output_type": "stream",
     "text": [
      "5.0\n",
      "4.0\n",
      "4.0\n",
      "1.5707963267948966\n"
     ]
    }
   ],
   "source": [
    "print(math.sqrt(25))\n",
    "print(math.fabs(-4)) #Valor absoluto con la funcion de la libreria math\n",
    "print(abs(-4.0)) #El valor absoluto viene tambien de base en python\n",
    "print(math.acos(0))"
   ]
  },
  {
   "cell_type": "markdown",
   "metadata": {},
   "source": [
    "Como en todos los lenguajes de programación, suele haber una serie de componentes básicos (variables, operaciones aritméticas, tipos de datos...) con los que podemos hacer muchas cosas. Ahora bien, si queremos ampliar esas funcionalidades, se suelen importar nuevos módulos, con funciones ya hechas de otros usuarios, como en el caso del módulo `math`. Veremos esto de los módulos más adelante."
   ]
  },
  {
   "cell_type": "markdown",
   "metadata": {},
   "source": [
    "<table align=\"left\">\n",
    " <tr><td width=\"80\"><img src=\"./img/error.png\" style=\"width:auto;height:auto\"></td>\n",
    "     <td style=\"text-align:left\">\n",
    "         <h3>ERRORES Dividir por cero</h3>\n",
    "         \n",
    " </td></tr>\n",
    "</table>"
   ]
  },
  {
   "cell_type": "markdown",
   "metadata": {},
   "source": [
    "Cuidado cuando operamos con 0s. Las indeterminaciones y valores infinitos suponen errores en el código. Por suerte, la descripción de estos errores es bastante explícita, obteniendo un error de tipo `ZeroDivisionError`"
   ]
  },
  {
   "cell_type": "code",
   "execution_count": 55,
   "metadata": {},
   "outputs": [
    {
     "ename": "ZeroDivisionError",
     "evalue": "division by zero",
     "output_type": "error",
     "traceback": [
      "\u001b[1;31m---------------------------------------------------------------------------\u001b[0m",
      "\u001b[1;31mZeroDivisionError\u001b[0m                         Traceback (most recent call last)",
      "\u001b[1;32mc:\\Users\\Bridgeschool37\\Desktop\\Data\\01_Ramp_Up\\1-Basics\\Teoria\\Basics_II.ipynb Celda 15\u001b[0m line \u001b[0;36m1\n\u001b[1;32m----> <a href='vscode-notebook-cell:/c%3A/Users/Bridgeschool37/Desktop/Data/01_Ramp_Up/1-Basics/Teoria/Basics_II.ipynb#X20sZmlsZQ%3D%3D?line=0'>1</a>\u001b[0m \u001b[39m4\u001b[39;49m\u001b[39m/\u001b[39;49m\u001b[39m0\u001b[39;49m\n",
      "\u001b[1;31mZeroDivisionError\u001b[0m: division by zero"
     ]
    }
   ],
   "source": [
    "4/0"
   ]
  },
  {
   "cell_type": "code",
   "execution_count": null,
   "metadata": {},
   "outputs": [
    {
     "ename": "ValueError",
     "evalue": "math domain error",
     "output_type": "error",
     "traceback": [
      "\u001b[1;31m---------------------------------------------------------------------------\u001b[0m",
      "\u001b[1;31mValueError\u001b[0m                                Traceback (most recent call last)",
      "\u001b[1;32mc:\\Users\\Bridgeschool37\\Desktop\\Data\\01_Ramp_Up\\1-Basics\\Teoria\\Basics_II.ipynb Celda 16\u001b[0m line \u001b[0;36m1\n\u001b[1;32m----> <a href='vscode-notebook-cell:/c%3A/Users/Bridgeschool37/Desktop/Data/01_Ramp_Up/1-Basics/Teoria/Basics_II.ipynb#X20sZmlsZQ%3D%3D?line=0'>1</a>\u001b[0m math\u001b[39m.\u001b[39;49msqrt(\u001b[39m-\u001b[39;49m\u001b[39m10\u001b[39;49m)\n",
      "\u001b[1;31mValueError\u001b[0m: math domain error"
     ]
    }
   ],
   "source": [
    "math.sqrt(-10)"
   ]
  },
  {
   "cell_type": "markdown",
   "metadata": {},
   "source": [
    "<table align=\"left\">\n",
    " <tr><td width=\"80\"><img src=\"./img/ejercicio.png\" style=\"width:auto;height:auto\"></td>\n",
    "     <td style=\"text-align:left\">\n",
    "         <h3>Ejercicio de operaciones con math</h3>\n",
    "\n",
    "Consulta la documentación de math para resolver este ejercicio \n",
    "<ol>\n",
    "    <li>Calcula el valor absoluto de -25. Usa fabs</li>\n",
    "    <li>Redondea 4.7 a su entero más bajo. Usa floor</li>\n",
    "    <li>Redondea 4.3 a su entero más alto. Usa ceil</li>\n",
    "    <li>El número pi</li>\n",
    "    <li>¿Cuál es el área de un círculo de radio 3?</li>\n",
    "</ol>\n",
    "         \n",
    " </td></tr>\n",
    "</table>"
   ]
  },
  {
   "cell_type": "code",
   "execution_count": null,
   "metadata": {},
   "outputs": [
    {
     "name": "stdout",
     "output_type": "stream",
     "text": [
      "25.0\n",
      "25\n",
      "4\n",
      "5\n",
      "4\n",
      "3.141592653589793\n",
      "28.274333882308138\n"
     ]
    }
   ],
   "source": [
    "print(math.fabs(-25)) #valor absoluto\n",
    "print(abs(-25))\n",
    "print(math.floor(4.7)) #El valor entero mas bajo cercano a 4.7\n",
    "print(math.ceil(4.3)) #El valor entero mas alto cercano a 4.3\n",
    "print(round(4.3))\n",
    "print(math.pi)\n",
    "area = math.pi * 3 ** 2\n",
    "print(area)"
   ]
  },
  {
   "cell_type": "markdown",
   "metadata": {},
   "source": [
    "## 2. Operaciones comparativas\n",
    "\n",
    "Es bastante intuitivo comparar valores en Python. La sintaxis es la siguiente:\n",
    "* `==`: Igualdad. No es un `=`. Hay que diferenciar entre una comparativa, y una asignación de valores\n",
    "* `!=`: Desigualdad\n",
    "* `>`: Mayor que\n",
    "* `<`: Menor que\n",
    "* `>=`: Mayor o igual que\n",
    "* `<=`: Menor o igual que"
   ]
  },
  {
   "cell_type": "code",
   "execution_count": null,
   "metadata": {},
   "outputs": [
    {
     "name": "stdout",
     "output_type": "stream",
     "text": [
      "True\n",
      "False\n",
      "<class 'bool'>\n",
      "<class 'int'>\n"
     ]
    }
   ],
   "source": [
    "x = 1\n",
    "\n",
    "print(x == 1)\n",
    "print(x == 5)\n",
    "print(type(x == 5))\n",
    "print(type(x))"
   ]
  },
  {
   "cell_type": "markdown",
   "metadata": {},
   "source": [
    "En la asignación estamos diciendole a Python que la variable `asign` vale 1, mientras que en la comparación, estamos preguntando a Python si `a` equivale a 5. Como vale 1, nos devuelve un `False`"
   ]
  },
  {
   "cell_type": "code",
   "execution_count": null,
   "metadata": {},
   "outputs": [
    {
     "name": "stdout",
     "output_type": "stream",
     "text": [
      "False\n",
      "True\n",
      "True\n",
      "False\n",
      "False\n"
     ]
    }
   ],
   "source": [
    "print(\"AAA\" == \"BBB\")\n",
    "print(\"AAA\" == \"AAA\")\n",
    "\n",
    "print(1 == 1.0)\n",
    "print(1 == 1.1)\n",
    "\n",
    "print(67 != 67)"
   ]
  },
  {
   "cell_type": "code",
   "execution_count": null,
   "metadata": {},
   "outputs": [
    {
     "name": "stdout",
     "output_type": "stream",
     "text": [
      "True\n",
      "True\n",
      "False\n"
     ]
    }
   ],
   "source": [
    "#A nivel numerico: True vale 1 False 0 \n",
    "print(True == 1)\n",
    "print(False == 0)\n",
    "print(True == 5)"
   ]
  },
  {
   "cell_type": "markdown",
   "metadata": {},
   "source": [
    "<table align=\"left\">\n",
    " <tr><td width=\"80\"><img src=\"./img/error.png\" style=\"width:auto;height:auto\"></td>\n",
    "     <td style=\"text-align:left\">\n",
    "         <h3>ERRORES en comparativas</h3>\n",
    "         \n",
    " </td></tr>\n",
    "</table>"
   ]
  },
  {
   "cell_type": "markdown",
   "metadata": {},
   "source": [
    "Este tipo de errores son muy comunes, pues es muy habitual comparar peras con manzanas. Cuando se trata de una igualdad (`==`), no suele haber problemas, ya que si las variables son de distinto tipo, simplemente es `False`. Lo ideal sería que Python nos avisase de estas cosas porque realmente lo estamos haciendo mal, no estamos comparando cosas del mismo tipo"
   ]
  },
  {
   "cell_type": "code",
   "execution_count": null,
   "metadata": {},
   "outputs": [
    {
     "name": "stdout",
     "output_type": "stream",
     "text": [
      "False\n",
      "False\n",
      "False\n"
     ]
    }
   ],
   "source": [
    "print(True == 6)\n",
    "print(True == \"verdadero\")\n",
    "print(6 == \"cadena\")"
   ]
  },
  {
   "cell_type": "code",
   "execution_count": null,
   "metadata": {},
   "outputs": [
    {
     "ename": "TypeError",
     "evalue": "'>' not supported between instances of 'float' and 'str'",
     "output_type": "error",
     "traceback": [
      "\u001b[1;31m---------------------------------------------------------------------------\u001b[0m",
      "\u001b[1;31mTypeError\u001b[0m                                 Traceback (most recent call last)",
      "\u001b[1;32mc:\\Users\\Bridgeschool37\\Desktop\\Data\\01_Ramp_Up\\1-Basics\\Teoria\\Basics_II.ipynb Celda 27\u001b[0m line \u001b[0;36m1\n\u001b[1;32m----> <a href='vscode-notebook-cell:/c%3A/Users/Bridgeschool37/Desktop/Data/01_Ramp_Up/1-Basics/Teoria/Basics_II.ipynb#X34sZmlsZQ%3D%3D?line=0'>1</a>\u001b[0m \u001b[39m1.0\u001b[39;49m \u001b[39m>\u001b[39;49m \u001b[39m\"\u001b[39;49m\u001b[39mtexto\u001b[39;49m\u001b[39m\"\u001b[39;49m\n",
      "\u001b[1;31mTypeError\u001b[0m: '>' not supported between instances of 'float' and 'str'"
     ]
    }
   ],
   "source": [
    "1.0 > \"texto\""
   ]
  },
  {
   "cell_type": "code",
   "execution_count": null,
   "metadata": {},
   "outputs": [
    {
     "name": "stdout",
     "output_type": "stream",
     "text": [
      "True\n",
      "False\n",
      "True\n",
      "True\n"
     ]
    }
   ],
   "source": [
    "print(1 > 0)\n",
    "print(1 > 2)\n",
    "print(1 >= 1)\n",
    "print(1 <= 2)"
   ]
  },
  {
   "cell_type": "markdown",
   "metadata": {},
   "source": [
    "## 3. Operaciones con booleanos\n",
    "Todas las operaciones que realizabamos en el apartado anterior devolvían un tipo de dato concreto: un booleano. `True` o `False`. Pero ¿cómo harías si se tienen que cumplir 3 condiciones, o solo una de esas tres, o que no se cumplan 5 condiciones?\n",
    "Para este tipo de operaciones recurrimos al [*Álgebra de Boole*](https://es.wikipedia.org/wiki/%C3%81lgebra_de_Boole#:~:text=El%20%C3%A1lgebra%20de%20Boole%2C%20tambi%C3%A9n,que%20esquematiza%20las%20operaciones%20l%C3%B3gicas.). Se trata de una rama del álgebra que se utiliza en electrónica, pero que tiene un sin fin de aplicaciones, no solo téncicas, sino aplicables a la vida cotidiana. Estas matemáticas pueden llegar a ser muy complejas aún utilizando únicamente dos valores: `True` y `False`. Las operaciones más comunes son **AND, OR, NOT**.\n",
    "En las siguientes tablas tienes todos los posibles resultados de las puertas AND, OR, NOT, dependiendo de sus inputs.\n",
    "\n",
    "Puede parecer complejo pero a efectos prácticos, y sin meternos con otro tipo de puertas lógicas, te recomiendo seguir estas reglas:\n",
    "* **AND**: Se tienen que cumplir ambas condiciones para que sea un `True`\n",
    "* **OR**: Basta que se cumpla al menos una condicion para que sea `True`\n",
    "* **NOT**: Lo contrario de lo que haya. Cuando no se cumple la condicion que indicamos devuelve True.\n",
    "\n",
    "Veamos un ejemplo práctico para aclarar estos conceptos. Imaginemos que queremos comprar un ordenador, pero nos cuesta decidirnos. Eso sí, tenemos claras las siguentes condiciones a la hora de elegir\n",
    "* La RAM me vale que tenga 16, 32 o 64 GB\n",
    "* En cuanto al procesador y disco duro, la combinación que mejor me viene es un i3 con 500GB de disco.\n",
    "* Precio: que no pase de los 800 €"
   ]
  },
  {
   "cell_type": "code",
   "execution_count": null,
   "metadata": {},
   "outputs": [],
   "source": [
    "# Primer ordenador\n",
    "ram1 = 32\n",
    "process1 = \"i5\"\n",
    "disco1 = 500\n",
    "precio1 = 850\n",
    "\n",
    "# Segundo ordenador\n",
    "ram2 = 8\n",
    "process2 = \"i5\"\n",
    "disco2 = 500\n",
    "precio2 = 600\n",
    "\n",
    "# Tercer ordenador\n",
    "ram3 = 32\n",
    "process3 = \"i3\"\n",
    "disco3 = 500\n",
    "precio3 = 780"
   ]
  },
  {
   "cell_type": "markdown",
   "metadata": {},
   "source": [
    "Veamos cómo implemento esto mediante operaciones booleanas"
   ]
  },
  {
   "cell_type": "code",
   "execution_count": null,
   "metadata": {},
   "outputs": [
    {
     "name": "stdout",
     "output_type": "stream",
     "text": [
      "True\n",
      "False\n",
      "False\n",
      "Resultado:  False\n"
     ]
    }
   ],
   "source": [
    "cond_ram1 = (ram1 == 16 or ram1 == 32 or ram1 == 64)\n",
    "# cond_ram1 = (False or True or False)\n",
    "# cond_ram1 = True\n",
    "print(cond_ram1)\n",
    "\n",
    "cond_process1 = (process1 == \"i3\" and disco1 == 500)\n",
    "# cond_process1 = (False and True)\n",
    "# cond_process1 = False\n",
    "print(cond_process1)\n",
    "\n",
    "cond_precio1 = (precio1 <= 800)\n",
    "# cond_precio1 = False\n",
    "print(cond_precio1)\n",
    "\n",
    "cond_final1 = cond_ram1 and cond_process1 and cond_precio1\n",
    "# cond_final1 = True and False and False\n",
    "# cond_final1 = False\n",
    "print(\"Resultado: \", cond_final1)"
   ]
  },
  {
   "cell_type": "code",
   "execution_count": null,
   "metadata": {},
   "outputs": [
    {
     "name": "stdout",
     "output_type": "stream",
     "text": [
      "False\n",
      "True\n"
     ]
    }
   ],
   "source": [
    "print(process1 == \"i3\")\n",
    "print(disco1 == 500)"
   ]
  },
  {
   "cell_type": "markdown",
   "metadata": {},
   "source": [
    "El primer ordenador cumple el requisito de ram, pero no los de precio y procesador/disco. Veamos los otros dos si los cumplen"
   ]
  },
  {
   "cell_type": "code",
   "execution_count": null,
   "metadata": {},
   "outputs": [
    {
     "name": "stdout",
     "output_type": "stream",
     "text": [
      "Resultado 2:  False\n",
      "Resultado 3:  True\n"
     ]
    }
   ],
   "source": [
    "cond_final2 = (ram2 == 16 or ram2 == 32 or ram2 == 64) and (process2 == \"i3\" and disco2 == 500) and (precio2 <=800)\n",
    "cond_final3 = (ram3 == 16 or ram3 == 32 or ram3 == 64) and (process3 == \"i3\" and disco3 == 500) and (precio3 <=800)\n",
    "\n",
    "print(\"Resultado 2: \", cond_final2)\n",
    "print(\"Resultado 3: \", cond_final3)"
   ]
  },
  {
   "cell_type": "markdown",
   "metadata": {},
   "source": [
    "¡Bingo! El tercer ordenador cumple todas las condiciones para ser mi futura compra. Verás en próximos notebooks que esto se puede hacer todavía más sencillo mediante bucles y funciones.\n",
    "\n",
    "Si quieres aprender más sobre el **Álgebra de Boole**, te recomiendo [esta página](https://ryanstutorials.net/boolean-algebra-tutorial/)"
   ]
  },
  {
   "cell_type": "markdown",
   "metadata": {},
   "source": [
    "¡No me vas a creer cuando te diga que lo mejor que te puede pasar es que te salten errores por pantalla! Si, estos son los errores más fáciles de detectar y puede que también fáciles de corregir ya que tienes la ayuda del descriptivo del error. El problema gordo viene cuando no saltan errores y ves que tu código no lo está haciendo bien. Para ello tendremos que debugear el código y ver paso a paso que está pasando. Lo veremos en notebooks posteriores. De momento corregiremos el código revisandolo a ojo."
   ]
  },
  {
   "cell_type": "markdown",
   "metadata": {},
   "source": [
    "Cuidado cuando tenemos sentencias muy largas, ya que nos puede bailar perfectamente un paréntesis, un `>`, un `and` por un `or`... Hay que andarse con mil ojos.\n",
    "\n",
    "Y sobretodo, cuidado con el *copy paste*. Muchas veces, por ahorrar tiempo, copiamos código ya escrito para cambiar pequeñas cosas y hay veces que se nos olvida cambiar otras. Pensamos que está bien, ejecutamos, y saltan errores. Copiar código no es una mala práctica, es más, muchas veces evitamos errores con los nombres de las variables, pero hay que hacerlo con cabeza."
   ]
  },
  {
   "cell_type": "markdown",
   "metadata": {},
   "source": [
    "<table align=\"left\">\n",
    " <tr><td width=\"80\"><img src=\"./img/ejercicio.png\" style=\"width:auto;height:auto\"></td>\n",
    "     <td style=\"text-align:left\">\n",
    "         <h3>Ejercicio de operaciones con booleanos</h3>\n",
    "\n",
    "Sin escribir código, ¿Qué valor devuelve cada una de las siguientes operaciones?\n",
    "<ol>\n",
    "    <li>not (True and False)</li>\n",
    "    <li>False or False or False or (False and True) or True or False or False or False</li>\n",
    "    <li>True or not False or (True and True) or True or False or True or True</li>\n",
    "    <li>(False and True and True) or (True and True)</li>\n",
    "</ol>\n",
    "         \n",
    " </td></tr>\n",
    "</table>"
   ]
  },
  {
   "cell_type": "markdown",
   "metadata": {},
   "source": [
    "1. True\n",
    "2. True\n",
    "3. True\n",
    "4. True"
   ]
  },
  {
   "cell_type": "code",
   "execution_count": null,
   "metadata": {},
   "outputs": [
    {
     "name": "stdout",
     "output_type": "stream",
     "text": [
      "True\n",
      "True\n",
      "True\n",
      "True\n"
     ]
    }
   ],
   "source": [
    "print(not (True and False)) #True\n",
    "print(False or False or False or (False and True) or True or False or False or False) #True\n",
    "print(True or not False or (True and True) or True or False or True or True) #True\n",
    "print((False and True and True) or (True and True)) #True"
   ]
  },
  {
   "cell_type": "markdown",
   "metadata": {},
   "source": [
    "## 4. Funciones *Built in*\n",
    "Hay una serie de funciones internas, que vienen en el intérprete de Python. Algunas de las más comunes son:\n",
    "* **Tipos**: `bool()`, `str()`, `int()`, `float()`\n",
    "* **Min/Max**: `min()`, `max()`\n",
    "* **print()**\n",
    "* **type()**\n",
    "* **range()**\n",
    "* **zip()**\n",
    "* **len()**\n",
    "* ...\n",
    "\n",
    "La sintaxis de la función es:\n",
    "\n",
    "```Python\n",
    "nombre_funcion(argumentos)\n",
    "```\n",
    "\n",
    "Algunas ya las hemos visto. Sin embargo, hay unas cuantas que las iremos descubriendo a lo largo de estos notebooks. Para más detalle, tienes [aquí](https://docs.python.org/3/library/functions.html) todas las funciones *built-in* de la documentación.\n",
    "\n",
    "De momento, en lo que se refiere a funciones, vamos a ir trabajando con funciones ya hechas, pero más adelante crearemos nuestras propias funciones."
   ]
  },
  {
   "cell_type": "code",
   "execution_count": null,
   "metadata": {},
   "outputs": [
    {
     "name": "stdout",
     "output_type": "stream",
     "text": [
      "11\n",
      "100\n",
      "4\n"
     ]
    }
   ],
   "source": [
    "print(len(\"Este string\"))\n",
    "\n",
    "print(max(5,6,4,5,7,100))\n",
    "print(min(5,6,4,5,7,100))"
   ]
  },
  {
   "cell_type": "markdown",
   "metadata": {},
   "source": [
    "<table align=\"left\">\n",
    " <tr><td width=\"80\"><img src=\"./img/ejercicio.png\" style=\"width:auto;height:auto\"></td>\n",
    "     <td style=\"text-align:left\">\n",
    "         <h3>Ejercicio de funciones built-in</h3>\n",
    "\n",
    "Busca <a href=\"https://docs.python.org/3/library/functions.html\">en la documentación</a> una función que te sirva para ordenar de manera descendente la siguiente lista\n",
    "         \n",
    " </td></tr>\n",
    "</table>"
   ]
  },
  {
   "cell_type": "code",
   "execution_count": null,
   "metadata": {},
   "outputs": [
    {
     "name": "stdout",
     "output_type": "stream",
     "text": [
      "<class 'list'>\n"
     ]
    }
   ],
   "source": [
    "temperaturas = [17,22,26,18,21,25,29]\n",
    "print(type(temperaturas))"
   ]
  },
  {
   "cell_type": "code",
   "execution_count": null,
   "metadata": {},
   "outputs": [
    {
     "name": "stdout",
     "output_type": "stream",
     "text": [
      "[29, 26, 25, 22, 21, 18, 17]\n",
      "[17, 18, 21, 22, 25, 26, 29]\n"
     ]
    }
   ],
   "source": [
    "#La funcion sort por defecto nos ordena de menor a mayor\n",
    "#Si queremos que nos ordene de mayor a menor utilizamos la funcion reverse (como true)\n",
    "print(sorted(temperaturas, reverse=True)) \n",
    "print(sorted(temperaturas))"
   ]
  },
  {
   "cell_type": "code",
   "execution_count": null,
   "metadata": {},
   "outputs": [
    {
     "name": "stdout",
     "output_type": "stream",
     "text": [
      "[17, 22, 26, 18, 21, 25, 29]\n"
     ]
    }
   ],
   "source": [
    "print(temperaturas)"
   ]
  },
  {
   "cell_type": "code",
   "execution_count": null,
   "metadata": {},
   "outputs": [
    {
     "data": {
      "text/plain": [
       "[29, 26, 25, 22, 21, 18, 17]"
      ]
     },
     "execution_count": 6,
     "metadata": {},
     "output_type": "execute_result"
    }
   ],
   "source": [
    "sorted(temperaturas, reverse=True) #AQUI LA LISTA ORIGINAL NO SE MODIFICA"
   ]
  },
  {
   "cell_type": "code",
   "execution_count": null,
   "metadata": {},
   "outputs": [
    {
     "name": "stdout",
     "output_type": "stream",
     "text": [
      "[29, 26, 25, 22, 21, 18, 17]\n"
     ]
    }
   ],
   "source": [
    "temperaturas.sort(reverse=True) #AQUI LA LISTA ORIGINAL SE MODIFICA. LOS METODOS LO CAMBIAN\n",
    "print(temperaturas)"
   ]
  },
  {
   "cell_type": "markdown",
   "metadata": {},
   "source": [
    "## 5. Métodos\n",
    "Se trata de una propiedad MUY utilizada en programación. Son funciones propias de las variables/objetos, y que nos permiten modificarlos u obtener más información de los mismos. Dependiendo del tipo de objeto, tendremos unos métodos disponibles diferentes.\n",
    "\n",
    "Para usar un método se usa la sintaxis `objeto.metodo()`. Ponemos un punto entre el nombre del objeto y el del metodo, y unos paréntesis por si el método necesita de algunos argumentos. **Aunque no necesite de argumentos, los paréntesis hay que ponerlos igualmente.**\n",
    "\n",
    "Veamos algunos ejemplos\n",
    "\n",
    "### String\n",
    "Una variable de tipo string, tiene una serie de métodos que permiten sacarle jugo a la cadena de texto. [Aquí](https://docs.python.org/2.5/lib/string-methods.html) tienes todos los métodos que podemos usar en cadenas de texto"
   ]
  },
  {
   "cell_type": "code",
   "execution_count": null,
   "metadata": {},
   "outputs": [
    {
     "name": "stdout",
     "output_type": "stream",
     "text": [
      "STRING DE EJEMPLO\n",
      "string de ejemplo\n",
      "String dE EjEmplo\n",
      "['String', 'de', 'ejemplo']\n",
      "2\n"
     ]
    }
   ],
   "source": [
    "string_ejemplo = \"String de ejemplo\"\n",
    "\n",
    "print(string_ejemplo.upper())\n",
    "\n",
    "print(string_ejemplo.lower())\n",
    "\n",
    "print(string_ejemplo.replace(\"e\", \"E\"))\n",
    "\n",
    "print(string_ejemplo.split(' ')) #Separa el string por el simbolo que le indiquemos\n",
    "\n",
    "print(string_ejemplo.index('r')) #El indice del primer string que coincida con el simbolo que le hemos indicado"
   ]
  },
  {
   "cell_type": "markdown",
   "metadata": {},
   "source": [
    "Como ves, se pueden hacer muchas cosas en los Strings gracias a sus métodos. Ya verás cómo la cosa se pone más interesante cuando los tipos de los datos sean todavía más complejos.\n",
    "\n",
    "Los métodos son una manera de abstraernos de cierta operativa. Convertir todos los caracteres de una cadena a minuscula, puede ser un poco tedioso si no existiese el método `lower()`. Tendríamos que acudir a bucles o programación funcional."
   ]
  },
  {
   "cell_type": "markdown",
   "metadata": {},
   "source": [
    "<table align=\"left\">\n",
    " <tr><td width=\"80\"><img src=\"./img/error.png\" style=\"width:auto;height:auto\"></td>\n",
    "     <td style=\"text-align:left\">\n",
    "         <h3>ERRORES en métodos</h3>\n",
    "         \n",
    " </td></tr>\n",
    "</table>"
   ]
  },
  {
   "cell_type": "code",
   "execution_count": null,
   "metadata": {
    "scrolled": true
   },
   "outputs": [
    {
     "ename": "TypeError",
     "evalue": "replace expected at least 2 arguments, got 1",
     "output_type": "error",
     "traceback": [
      "\u001b[1;31m---------------------------------------------------------------------------\u001b[0m",
      "\u001b[1;31mTypeError\u001b[0m                                 Traceback (most recent call last)",
      "\u001b[1;32mc:\\Users\\Bridgeschool37\\Desktop\\Data\\01_Ramp_Up\\1-Basics\\Teoria\\Basics_II.ipynb Celda 54\u001b[0m line \u001b[0;36m2\n\u001b[0;32m      <a href='vscode-notebook-cell:/c%3A/Users/Bridgeschool37/Desktop/Data/01_Ramp_Up/1-Basics/Teoria/Basics_II.ipynb#Y104sZmlsZQ%3D%3D?line=0'>1</a>\u001b[0m str_ejemplo \u001b[39m=\u001b[39m \u001b[39m\"\u001b[39m\u001b[39mstring\u001b[39m\u001b[39m\"\u001b[39m\n\u001b[1;32m----> <a href='vscode-notebook-cell:/c%3A/Users/Bridgeschool37/Desktop/Data/01_Ramp_Up/1-Basics/Teoria/Basics_II.ipynb#Y104sZmlsZQ%3D%3D?line=1'>2</a>\u001b[0m str_ejemplo\u001b[39m.\u001b[39;49mreplace(\u001b[39m\"\u001b[39;49m\u001b[39ms\u001b[39;49m\u001b[39m\"\u001b[39;49m)\n",
      "\u001b[1;31mTypeError\u001b[0m: replace expected at least 2 arguments, got 1"
     ]
    }
   ],
   "source": [
    "str_ejemplo = \"string\"\n",
    "str_ejemplo.replace(\"s\")"
   ]
  },
  {
   "cell_type": "markdown",
   "metadata": {},
   "source": [
    "## 6. Listas\n",
    "Se trata de otro de los tipos de datos de Python más usados. Dentro de las colecciones, que veremos más adelante, la lista es la colección que normalmente se le da más uso. **Nos permiten almacenar conjuntos de variables u objetos**, y son elementos de lo más versátiles puesto que podemos almacenar objetos de distintos tipos, modificarlos, eliminarlos, meter listas dentro de listas... Sus dos caractrísticas principales son:\n",
    "* **Mutables**: una vez se ha creado la lista, se puede modificar\n",
    "* **Ordenada**: Los elementos tienen un cierto orden, lo que nos permite acceder al elemento que queramos teniendo en cuenta tal orden\n",
    "\n",
    "En cuanto a su sintaxis, cuando declaremos la lista simplemente hay que separar cada elemento con comas, y rodearlo todo con corchetes."
   ]
  },
  {
   "cell_type": "code",
   "execution_count": null,
   "metadata": {},
   "outputs": [
    {
     "name": "stdout",
     "output_type": "stream",
     "text": [
      "<class 'list'>\n",
      "[3, 6, 1]\n"
     ]
    }
   ],
   "source": [
    "numeros = [3,6,1]\n",
    "print(type(numeros))\n",
    "print(numeros)"
   ]
  },
  {
   "cell_type": "code",
   "execution_count": null,
   "metadata": {},
   "outputs": [
    {
     "name": "stdout",
     "output_type": "stream",
     "text": [
      "['ponme', 'otra']\n",
      "[True, False, True, True]\n",
      "[4, 'diez', [True, 6], [], ['texto', 1, 55.78, True]]\n",
      "5\n",
      "[1, 2, 3, 4]\n"
     ]
    }
   ],
   "source": [
    "list_string = [\"ponme\", \"otra\"]\n",
    "print(list_string)\n",
    "\n",
    "list_bools = [True, False, not False, True or False]\n",
    "print(list_bools)\n",
    "\n",
    "list_mix = [\"texto\", 1, 55.78, True]\n",
    "\n",
    "list_list = [4, \n",
    "             \"diez\", \n",
    "             [True, 6], \n",
    "             [], \n",
    "             list_mix]\n",
    "print(list_list)\n",
    "print(len(list_list))\n",
    "\n",
    "list_a = [1,2]\n",
    "list_b = [3,4]\n",
    "print(list_a + list_b) #Tambien se pueden concatenar con el +="
   ]
  },
  {
   "cell_type": "code",
   "execution_count": null,
   "metadata": {},
   "outputs": [
    {
     "ename": "NameError",
     "evalue": "name 'list_list' is not defined",
     "output_type": "error",
     "traceback": [
      "\u001b[1;31m---------------------------------------------------------------------------\u001b[0m",
      "\u001b[1;31mNameError\u001b[0m                                 Traceback (most recent call last)",
      "\u001b[1;32mc:\\Users\\Bridgeschool37\\Desktop\\Data\\01_Ramp_Up\\1-Basics\\Teoria\\Basics_II.ipynb Celda 58\u001b[0m line \u001b[0;36m1\n\u001b[1;32m----> <a href='vscode-notebook-cell:/c%3A/Users/Bridgeschool37/Desktop/Data/01_Ramp_Up/1-Basics/Teoria/Basics_II.ipynb#Y111sZmlsZQ%3D%3D?line=0'>1</a>\u001b[0m \u001b[39mprint\u001b[39m(list_list)\n\u001b[0;32m      <a href='vscode-notebook-cell:/c%3A/Users/Bridgeschool37/Desktop/Data/01_Ramp_Up/1-Basics/Teoria/Basics_II.ipynb#Y111sZmlsZQ%3D%3D?line=1'>2</a>\u001b[0m \u001b[39mprint\u001b[39m(\u001b[39mlen\u001b[39m(list_list))\n",
      "\u001b[1;31mNameError\u001b[0m: name 'list_list' is not defined"
     ]
    }
   ],
   "source": [
    "print(list_list)\n",
    "print(len(list_list))"
   ]
  },
  {
   "cell_type": "code",
   "execution_count": null,
   "metadata": {},
   "outputs": [
    {
     "data": {
      "text/plain": [
       "'texto'"
      ]
     },
     "execution_count": 8,
     "metadata": {},
     "output_type": "execute_result"
    }
   ],
   "source": [
    "list_list[4][0]"
   ]
  },
  {
   "cell_type": "code",
   "execution_count": null,
   "metadata": {},
   "outputs": [
    {
     "data": {
      "text/plain": [
       "list"
      ]
     },
     "execution_count": 9,
     "metadata": {},
     "output_type": "execute_result"
    }
   ],
   "source": [
    "type(list_list[3])\n"
   ]
  },
  {
   "cell_type": "code",
   "execution_count": null,
   "metadata": {},
   "outputs": [
    {
     "data": {
      "text/plain": [
       "5"
      ]
     },
     "execution_count": 17,
     "metadata": {},
     "output_type": "execute_result"
    }
   ],
   "source": [
    "len(list_list)"
   ]
  },
  {
   "cell_type": "code",
   "execution_count": null,
   "metadata": {},
   "outputs": [
    {
     "data": {
      "text/plain": [
       "55.78"
      ]
     },
     "execution_count": 10,
     "metadata": {},
     "output_type": "execute_result"
    }
   ],
   "source": [
    "list_list[-1][-2]"
   ]
  },
  {
   "cell_type": "markdown",
   "metadata": {},
   "source": [
    "**NOTA**: ¿Ves por qué los decimales en Python siempre van con puntos y no con comas? Con las colecciones el intérprete de Python se volvería loco.\n",
    "\n",
    "Podemos ver tambien el tipo de la lista"
   ]
  },
  {
   "cell_type": "code",
   "execution_count": null,
   "metadata": {},
   "outputs": [
    {
     "data": {
      "text/plain": [
       "list"
      ]
     },
     "execution_count": 19,
     "metadata": {},
     "output_type": "execute_result"
    }
   ],
   "source": [
    "type(list_list)"
   ]
  },
  {
   "cell_type": "markdown",
   "metadata": {},
   "source": [
    "Calcular la longitud de la misma mediante el método *built-in* ya visto: `len()`"
   ]
  },
  {
   "cell_type": "code",
   "execution_count": null,
   "metadata": {},
   "outputs": [
    {
     "data": {
      "text/plain": [
       "5"
      ]
     },
     "execution_count": 11,
     "metadata": {},
     "output_type": "execute_result"
    }
   ],
   "source": [
    "len(list_list)"
   ]
  },
  {
   "cell_type": "code",
   "execution_count": null,
   "metadata": {},
   "outputs": [
    {
     "data": {
      "text/plain": [
       "4"
      ]
     },
     "execution_count": 14,
     "metadata": {},
     "output_type": "execute_result"
    }
   ],
   "source": [
    "len(list_list[-1])"
   ]
  },
  {
   "cell_type": "markdown",
   "metadata": {},
   "source": [
    "Accedemos a los elemenos de la lista mediante corchetes `[]`\n",
    "\n",
    "**Importante**. El primer elemento es el 0"
   ]
  },
  {
   "cell_type": "code",
   "execution_count": null,
   "metadata": {},
   "outputs": [],
   "source": [
    "list_index = [4,5,7,8,6]"
   ]
  },
  {
   "cell_type": "code",
   "execution_count": null,
   "metadata": {},
   "outputs": [
    {
     "name": "stdout",
     "output_type": "stream",
     "text": [
      "3\n",
      "[4, 5, 7, 8, 6]\n"
     ]
    }
   ],
   "source": [
    "list_index = [4,5,7,8,6]\n",
    "mi_var = list_index[0] -  1\n",
    "\n",
    "print(mi_var)\n",
    "print(list_index)"
   ]
  },
  {
   "cell_type": "code",
   "execution_count": null,
   "metadata": {},
   "outputs": [
    {
     "data": {
      "text/plain": [
       "4"
      ]
     },
     "execution_count": 15,
     "metadata": {},
     "output_type": "execute_result"
    }
   ],
   "source": [
    "list_index[0]"
   ]
  },
  {
   "cell_type": "code",
   "execution_count": null,
   "metadata": {},
   "outputs": [
    {
     "name": "stdout",
     "output_type": "stream",
     "text": [
      "[12, 5, 7, 8, 6]\n"
     ]
    }
   ],
   "source": [
    "list_index[0] = 12\n",
    "print(list_index)"
   ]
  },
  {
   "cell_type": "code",
   "execution_count": null,
   "metadata": {},
   "outputs": [
    {
     "name": "stdout",
     "output_type": "stream",
     "text": [
      "[12, 5, 14, 8, 6]\n"
     ]
    }
   ],
   "source": [
    "list_index[2] = list_index[2] * 2\n",
    "print(list_index)"
   ]
  },
  {
   "cell_type": "markdown",
   "metadata": {},
   "source": [
    "### Metodos en Listas\n",
    "Para el tipo de objeto lista, también hay una serie de métodos catacterísticos que nos permiten operar con ellas: añadir valores, quitarlos, indexado, filtrado, etc... En [este enlace](https://www.w3schools.com/python/python_ref_list.asp) puedes encontrar todos los métodos que podrás usar con listas."
   ]
  },
  {
   "cell_type": "code",
   "execution_count": null,
   "metadata": {},
   "outputs": [],
   "source": [
    "#Metodo extend sirve para concatenar listas entre ellas"
   ]
  },
  {
   "cell_type": "code",
   "execution_count": null,
   "metadata": {},
   "outputs": [
    {
     "name": "stdout",
     "output_type": "stream",
     "text": [
      "None\n",
      "['Mates', 'Fisica', 'Mates', 'Ingles', 'Quimica']\n",
      "3 nos devuelve el menor índice donde se encuentra dicho elemento\n",
      "2 nos devuelve la frecuencia del elemento dentro de la lista\n",
      "0\n",
      "None\n",
      "[]\n"
     ]
    }
   ],
   "source": [
    "asignaturas = [\"Mates\", \"Fisica\", \"Mates\", \"Ingles\"]\n",
    "\n",
    "print(asignaturas.append(\"Quimica\")) # añadir un elemento más.\n",
    "print(asignaturas)\n",
    "\n",
    "print(asignaturas.index(\"Ingles\"), 'nos devuelve el menor índice donde se encuentra dicho elemento')\n",
    "print(asignaturas.count(\"Mates\"), 'nos devuelve la frecuencia del elemento dentro de la lista')\n",
    "print(asignaturas.index(\"Mates\"))\n",
    "\n",
    "print(asignaturas.clear()) #El metodo clear vacia la lista\n",
    "print(asignaturas)"
   ]
  },
  {
   "cell_type": "code",
   "execution_count": null,
   "metadata": {},
   "outputs": [],
   "source": [
    "asignaturas.append(\"otra cosa más\")"
   ]
  },
  {
   "cell_type": "code",
   "execution_count": null,
   "metadata": {},
   "outputs": [
    {
     "data": {
      "text/plain": [
       "['otra cosa más']"
      ]
     },
     "execution_count": 29,
     "metadata": {},
     "output_type": "execute_result"
    }
   ],
   "source": [
    "asignaturas"
   ]
  },
  {
   "cell_type": "code",
   "execution_count": null,
   "metadata": {},
   "outputs": [],
   "source": [
    "string_vacio = \"\""
   ]
  },
  {
   "cell_type": "markdown",
   "metadata": {},
   "source": [
    "<table align=\"left\">\n",
    " <tr><td width=\"80\"><img src=\"./img/ejercicio.png\" style=\"width:auto;height:auto\"></td>\n",
    "     <td style=\"text-align:left\">\n",
    "         <h3>Ejercicio de listas</h3>\n",
    "\n",
    "<ol>\n",
    "    <li>Crea una lista con tus 3 películas favoritas.</li>\n",
    "    <li>Imprime por pantalla la longitud de la lista</li>\n",
    "    <li>Concatena a esta lista, otra lista con tus 3 series favoritas</li>\n",
    "    <li>Elimina el segundo elemento de la lista concatenada</li>\n",
    "    <li>Añade una lista de 3 platos de comida, en el segundo elemento de la lista concatenada</li>\n",
    "</ol>\n",
    "         \n",
    " </td></tr>\n",
    "</table>"
   ]
  },
  {
   "cell_type": "code",
   "execution_count": null,
   "metadata": {},
   "outputs": [
    {
     "name": "stdout",
     "output_type": "stream",
     "text": [
      "3\n",
      "['Interstellar', 'Star Wars', 'La cerdita', 'Los Soprano', 'True Detective', 'Suits']\n",
      "None\n"
     ]
    }
   ],
   "source": [
    "peliculas = ['Interstellar', 'Star Wars', 'La cerdita']\n",
    "#print(type(peliculas))\n",
    "#print(peliculas)\n",
    "\n",
    "print(len(peliculas))\n",
    "\n",
    "series = ['Los Soprano', 'True Detective', 'Suits']\n",
    "\n",
    "netflix = peliculas + series\n",
    "netflix_1=peliculas.extend(series)\n",
    "print(netflix)\n",
    "print(netflix_1)"
   ]
  },
  {
   "cell_type": "code",
   "execution_count": null,
   "metadata": {},
   "outputs": [
    {
     "data": {
      "text/plain": [
       "'Star Wars'"
      ]
     },
     "execution_count": 35,
     "metadata": {},
     "output_type": "execute_result"
    }
   ],
   "source": [
    "netflix[1]"
   ]
  },
  {
   "cell_type": "code",
   "execution_count": null,
   "metadata": {},
   "outputs": [],
   "source": [
    "# 1 forma\n",
    "# netflix.remove('Señor de los anillos')\n",
    "netflix.remove(netflix[1])"
   ]
  },
  {
   "cell_type": "code",
   "execution_count": null,
   "metadata": {},
   "outputs": [
    {
     "name": "stdout",
     "output_type": "stream",
     "text": [
      "['Interstellar', 'La cerdita', 'Los Soprano', 'True Detective', 'Suits']\n"
     ]
    }
   ],
   "source": [
    "print(netflix)"
   ]
  },
  {
   "cell_type": "code",
   "execution_count": null,
   "metadata": {},
   "outputs": [
    {
     "name": "stdout",
     "output_type": "stream",
     "text": [
      "['Interstellar', 'Los Soprano', 'True Detective', 'Suits']\n"
     ]
    }
   ],
   "source": [
    "# Otra forma\n",
    "netflix.pop(1)\n",
    "print(netflix)"
   ]
  },
  {
   "cell_type": "code",
   "execution_count": null,
   "metadata": {},
   "outputs": [
    {
     "name": "stdout",
     "output_type": "stream",
     "text": [
      "['Interstellar', 'True Detective', 'Suits']\n"
     ]
    }
   ],
   "source": [
    "# Otra forma (recomendable mejor usar metodos)\n",
    "del netflix[1]\n",
    "print(netflix)"
   ]
  },
  {
   "cell_type": "code",
   "execution_count": null,
   "metadata": {},
   "outputs": [
    {
     "name": "stdout",
     "output_type": "stream",
     "text": [
      "['Interstellar', ['Lentajas', 'Pulpo gallego', 'Chuletón'], ['Lentajas', 'Pulpo gallego', 'Chuletón'], 'True Detective', 'Suits']\n"
     ]
    }
   ],
   "source": [
    "print(netflix)"
   ]
  },
  {
   "cell_type": "code",
   "execution_count": 56,
   "metadata": {},
   "outputs": [],
   "source": [
    "comidas = ['Lentajas', 'Pulpo gallego', 'Chuletón']"
   ]
  },
  {
   "cell_type": "code",
   "execution_count": null,
   "metadata": {},
   "outputs": [
    {
     "name": "stdout",
     "output_type": "stream",
     "text": [
      "['Interstellar', ['Lentajas', 'Pulpo gallego', 'Chuletón'], ['Lentajas', 'Pulpo gallego', 'Chuletón'], ['Lentajas', 'Pulpo gallego', 'Chuletón'], 'True Detective', 'Suits']\n"
     ]
    }
   ],
   "source": [
    "netflix.insert(1,comidas) #.insert(posicion,nuevo valor)\n",
    "print(netflix)"
   ]
  },
  {
   "cell_type": "code",
   "execution_count": 57,
   "metadata": {},
   "outputs": [
    {
     "data": {
      "text/plain": [
       "'Chuletón'"
      ]
     },
     "execution_count": 57,
     "metadata": {},
     "output_type": "execute_result"
    }
   ],
   "source": [
    "netflix[1][2]"
   ]
  },
  {
   "cell_type": "code",
   "execution_count": 60,
   "metadata": {},
   "outputs": [
    {
     "name": "stdout",
     "output_type": "stream",
     "text": [
      "Pulpo gallego\n",
      "['Interstellar', ['Chuletón'], ['Chuletón'], ['Chuletón'], 'True Detective', 'Suits']\n"
     ]
    }
   ],
   "source": [
    "comida_borrada = netflix[1].pop(0) #Elimina la variable y te la devuelve. Pop va por indices remove por valores\n",
    "print(comida_borrada)\n",
    "print(netflix)"
   ]
  },
  {
   "cell_type": "code",
   "execution_count": 59,
   "metadata": {},
   "outputs": [
    {
     "name": "stdout",
     "output_type": "stream",
     "text": [
      "['Interstellar', 'Star Wars', 'La cerdita', 'Los Soprano', 'True Detective', 'Suits', 'Los Soprano', 'True Detective', 'Suits', 'Lentajas', 'Pulpo gallego', 'Chuletón']\n"
     ]
    }
   ],
   "source": [
    "# Preguntas\n",
    "lista_total = peliculas + series + comidas\n",
    "print(lista_total)"
   ]
  },
  {
   "cell_type": "code",
   "execution_count": 61,
   "metadata": {},
   "outputs": [
    {
     "name": "stdout",
     "output_type": "stream",
     "text": [
      "['Interstellar', ['Chuletón', 'Pulpo gallego'], ['Chuletón', 'Pulpo gallego'], ['Chuletón', 'Pulpo gallego'], 'True Detective', 'Suits']\n"
     ]
    }
   ],
   "source": [
    "# Preguntas\n",
    "netflix[1].insert(3,comida_borrada)\n",
    "print(netflix)"
   ]
  },
  {
   "cell_type": "code",
   "execution_count": 62,
   "metadata": {},
   "outputs": [],
   "source": [
    "netflix.insert(7,('domingo', 'fernandez'))"
   ]
  },
  {
   "cell_type": "code",
   "execution_count": 63,
   "metadata": {},
   "outputs": [
    {
     "name": "stdout",
     "output_type": "stream",
     "text": [
      "['Interstellar', ['Chuletón', 'Pulpo gallego'], ['Chuletón', 'Pulpo gallego'], ['Chuletón', 'Pulpo gallego'], 'True Detective', 'Suits', ('domingo', 'fernandez')]\n"
     ]
    }
   ],
   "source": [
    "print(netflix)"
   ]
  },
  {
   "cell_type": "code",
   "execution_count": 64,
   "metadata": {},
   "outputs": [
    {
     "name": "stdout",
     "output_type": "stream",
     "text": [
      "['Interstellar', ['Chuletón', 'Pulpo gallego'], ['Chuletón', 'Pulpo gallego'], ['Chuletón', 'Pulpo gallego'], 'True Detective', 'Suits', ('domingo', 'fernandez'), {'nombre': 'David', 'apellido': 'Bores'}]\n"
     ]
    }
   ],
   "source": [
    "netflix.insert(8,{'nombre': 'David', 'apellido': 'Bores'})\n",
    "print(netflix)"
   ]
  },
  {
   "cell_type": "markdown",
   "metadata": {},
   "source": [
    "## 7. Resumen"
   ]
  },
  {
   "cell_type": "code",
   "execution_count": 65,
   "metadata": {},
   "outputs": [
    {
     "name": "stdout",
     "output_type": "stream",
     "text": [
      "Operaciones matemáticas\n",
      "10\n",
      "18\n",
      "16\n",
      "2.0\n",
      "1\n",
      "1024\n",
      "5.0\n",
      "\n",
      "Operaciones comparativas\n",
      "False\n",
      "True\n",
      "True\n",
      "True\n",
      "True\n",
      "False\n",
      "False\n",
      "\n",
      "Operaciones con booleanos\n",
      "False\n",
      "True\n",
      "True\n",
      "\n",
      "Funciones built-in\n",
      "FIN DEL NOTEBOOK\n",
      "fin del notebook\n",
      "Fin del nOtebOOk\n",
      "Fin del ntebk\n",
      "\n",
      "Listas\n",
      "['AC/DC', 'Metallica', 'Nirvana', 'Queen']\n"
     ]
    }
   ],
   "source": [
    "# Operaciones matemáticas\n",
    "print(\"Operaciones matemáticas\")\n",
    "print(4 + 6)\n",
    "print(9*2)\n",
    "print(2 * (3 + 5))\n",
    "print(10/5)\n",
    "print(10 % 3)\n",
    "print(2**10)\n",
    "\n",
    "# Funciones matemáticas más complejas\n",
    "import math\n",
    "print(math.sqrt(25))\n",
    "\n",
    "\n",
    "# Operaciones comparativas\n",
    "print(\"\\nOperaciones comparativas\")\n",
    "print(\"AAA\" == \"BBB\")\n",
    "print(\"AAA\" == \"AAA\")\n",
    "print(1 == 1)\n",
    "print(1 == 1.0)\n",
    "print(67 != 93)\n",
    "print(67 > 93)\n",
    "print(67 >= 93)\n",
    "\n",
    "\n",
    "# Operaciones con booleanos\n",
    "print(\"\\nOperaciones con booleanos\")\n",
    "print(True and True and False)\n",
    "print(True or True or False)\n",
    "print(not False)\n",
    "\n",
    "\n",
    "# Funciones builtin\n",
    "print(\"\\nFunciones built-in\")\n",
    "string_builtin = \"Fin del notebook\"\n",
    "print(string_builtin.upper())\n",
    "print(string_builtin.lower())\n",
    "print( string_builtin.replace(\"o\", \"O\"))\n",
    "print(string_builtin.replace(\"o\", \"\"))\n",
    "\n",
    "\n",
    "# Listas\n",
    "print(\"\\nListas\")\n",
    "musica = [\"AC/DC\", \"Metallica\", \"Nirvana\"]\n",
    "musica.append(\"Queen\")\n",
    "print(musica)"
   ]
  }
 ],
 "metadata": {
  "kernelspec": {
   "display_name": "Python 3",
   "language": "python",
   "name": "python3"
  },
  "language_info": {
   "codemirror_mode": {
    "name": "ipython",
    "version": 3
   },
   "file_extension": ".py",
   "mimetype": "text/x-python",
   "name": "python",
   "nbconvert_exporter": "python",
   "pygments_lexer": "ipython3",
   "version": "3.11.5"
  },
  "nbTranslate": {
   "displayLangs": [
    "*"
   ],
   "hotkey": "alt-t",
   "langInMainMenu": true,
   "sourceLang": "en",
   "targetLang": "fr",
   "useGoogleTranslate": true
  },
  "varInspector": {
   "cols": {
    "lenName": 16,
    "lenType": 16,
    "lenVar": 40
   },
   "kernels_config": {
    "python": {
     "delete_cmd_postfix": "",
     "delete_cmd_prefix": "del ",
     "library": "var_list.py",
     "varRefreshCmd": "print(var_dic_list())"
    },
    "r": {
     "delete_cmd_postfix": ") ",
     "delete_cmd_prefix": "rm(",
     "library": "var_list.r",
     "varRefreshCmd": "cat(var_dic_list()) "
    }
   },
   "types_to_exclude": [
    "module",
    "function",
    "builtin_function_or_method",
    "instance",
    "_Feature"
   ],
   "window_display": false
  },
  "vscode": {
   "interpreter": {
    "hash": "abc9fc88bc0e5c548c5da0f33af674c000293e7a58ee42428ace4cfa52bc0e99"
   }
  }
 },
 "nbformat": 4,
 "nbformat_minor": 4
}
